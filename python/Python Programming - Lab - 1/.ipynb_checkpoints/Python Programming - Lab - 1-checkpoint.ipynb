{
 "cells": [
  {
   "cell_type": "markdown",
   "metadata": {},
   "source": [
    "<a href='https://www.darshan.ac.in/'> <img src='https://www.darshan.ac.in/Content/media/DU_Logo.svg' width=\"250\" height=\"10\"/></a>\n",
    "<pre>\n",
    "<center><b><h1>Python Programming - 2301CS404</b></center>\n",
    "<center><b><h1>Lab - 1</b></center>    \n",
    "<pre>"
   ]
  },
  {
   "cell_type": "markdown",
   "metadata": {},
   "source": [
    "<h1>name:thummar jainil</h1>\n",
    "<h1>enrollment number:23010101272 - 385</h1>"
   ]
  },
  {
   "cell_type": "markdown",
   "metadata": {},
   "source": [
    "### 01) WAP to print “Hello World”"
   ]
  },
  {
   "cell_type": "code",
   "execution_count": 1,
   "metadata": {},
   "outputs": [
    {
     "name": "stdout",
     "output_type": "stream",
     "text": [
      "Hello World\n"
     ]
    }
   ],
   "source": [
    "print(\"Hello World\")"
   ]
  },
  {
   "cell_type": "markdown",
   "metadata": {},
   "source": [
    "### 02) WAP to print addition of two numbers with and without using input()."
   ]
  },
  {
   "cell_type": "code",
   "execution_count": 3,
   "metadata": {},
   "outputs": [
    {
     "name": "stdout",
     "output_type": "stream",
     "text": [
      "the ans is: 27\n"
     ]
    }
   ],
   "source": [
    "a=12\n",
    "b=15\n",
    "print(\"the ans is:\",(a+b))"
   ]
  },
  {
   "cell_type": "markdown",
   "metadata": {},
   "source": [
    "### 03) WAP to check the type of the variable."
   ]
  },
  {
   "cell_type": "code",
   "execution_count": 9,
   "metadata": {},
   "outputs": [
    {
     "name": "stdout",
     "output_type": "stream",
     "text": [
      "<class 'int'>\n"
     ]
    }
   ],
   "source": [
    "a=10\n",
    "print(type(a))"
   ]
  },
  {
   "cell_type": "markdown",
   "metadata": {},
   "source": [
    "### 04) WAP to calculate simple interest."
   ]
  },
  {
   "cell_type": "code",
   "execution_count": 23,
   "metadata": {},
   "outputs": [
    {
     "name": "stdout",
     "output_type": "stream",
     "text": [
      "enter prinacipal: 5\n",
      "enter rate: 6\n",
      "enter time: 7\n"
     ]
    },
    {
     "name": "stdout",
     "output_type": "stream",
     "text": [
      "simple interest is: 2.1\n"
     ]
    }
   ],
   "source": [
    "principal=float(input(\"enter prinacipal:\"))\n",
    "rate=float(input(\"enter rate:\"))\n",
    "time=float(input(\"enter time:\"))\n",
    "interest=(principal*rate*time)/100\n",
    "print(\"simple interest is:\",interest)"
   ]
  },
  {
   "cell_type": "markdown",
   "metadata": {},
   "source": [
    "### 05) WAP to calculate area and perimeter of a circle."
   ]
  },
  {
   "cell_type": "code",
   "execution_count": 15,
   "metadata": {},
   "outputs": [
    {
     "name": "stdout",
     "output_type": "stream",
     "text": [
      "enter radius 5\n"
     ]
    },
    {
     "name": "stdout",
     "output_type": "stream",
     "text": [
      "78.5\n",
      "31.400000000000002\n"
     ]
    }
   ],
   "source": [
    "radius=float(input(\"enter radius\"))\n",
    "area=3.14*radius*radius\n",
    "perimeter=2*3.14*radius\n",
    "print(area)\n",
    "print(perimeter)"
   ]
  },
  {
   "cell_type": "markdown",
   "metadata": {},
   "source": [
    "### 06) WAP to calculate area of a triangle."
   ]
  },
  {
   "cell_type": "code",
   "execution_count": null,
   "metadata": {},
   "outputs": [
    {
     "name": "stdout",
     "output_type": "stream",
     "text": [
      "enter base: 5\n",
      "enter height: 2\n"
     ]
    },
    {
     "name": "stdout",
     "output_type": "stream",
     "text": [
      "5.0\n"
     ]
    }
   ],
   "source": [
    "base=float(input(\"enter base:\"))\n",
    "height=float(input(\"enter height:\"))\n",
    "area=1/2*base*height\n",
    "print(area)"
   ]
  },
  {
   "cell_type": "markdown",
   "metadata": {},
   "source": [
    "### 07) WAP to compute quotient and remainder."
   ]
  },
  {
   "cell_type": "code",
   "execution_count": 7,
   "metadata": {},
   "outputs": [
    {
     "name": "stdout",
     "output_type": "stream",
     "text": [
      "please enter divident 4\n",
      "please enter dicisor 2\n"
     ]
    },
    {
     "name": "stdout",
     "output_type": "stream",
     "text": [
      "the quotient is 2.0 and reminder is 0.0\n"
     ]
    }
   ],
   "source": [
    "divident=float(input(\"please enter divident\"))\n",
    "divisor=float(input(\"please enter dicisor\"))\n",
    "quotient=divident/divisor\n",
    "reminder=divident%divisor\n",
    "print(f\"the quotient is {quotient} and reminder is {reminder}\")"
   ]
  },
  {
   "cell_type": "markdown",
   "metadata": {},
   "source": [
    "### 08) WAP to convert degree into Fahrenheit and vice versa."
   ]
  },
  {
   "cell_type": "code",
   "execution_count": 17,
   "metadata": {},
   "outputs": [
    {
     "name": "stdout",
     "output_type": "stream",
     "text": [
      "enter temprature in degree 20\n",
      "enter temprature in fahrenheit 68\n"
     ]
    },
    {
     "name": "stdout",
     "output_type": "stream",
     "text": [
      "the dtof is 68.0 and ftod is 20.0\n"
     ]
    }
   ],
   "source": [
    "degree=float(input(\"enter temprature in degree\"))\n",
    "fahrenheit=float(input(\"enter temprature in fahrenheit\"))\n",
    "dtof=(9/5*degree)+32\n",
    "ftod=5/9*(fahrenheit-32)\n",
    "print(f\"the dtof is {dtof} and ftod is {ftod}\")"
   ]
  },
  {
   "cell_type": "markdown",
   "metadata": {},
   "source": [
    "### 09) WAP to find the distance between two points in 2-D space."
   ]
  },
  {
   "cell_type": "code",
   "execution_count": 31,
   "metadata": {},
   "outputs": [
    {
     "name": "stdout",
     "output_type": "stream",
     "text": [
      "enter x1 3\n",
      "enter y1 4\n",
      "enter x2 7\n",
      "enter y2 1\n"
     ]
    },
    {
     "name": "stdout",
     "output_type": "stream",
     "text": [
      "the distance is 5.0\n"
     ]
    }
   ],
   "source": [
    "import math\n",
    "x1=float(input(\"enter x1\"))\n",
    "y1=float(input(\"enter y1\"))\n",
    "x2=float(input(\"enter x2\"))\n",
    "y2=float(input(\"enter y2\"))\n",
    "distance=math.sqrt(pow((x2-x1),2)+pow((y2-y1),2))\n",
    "print(f\"the distance is {distance}\")"
   ]
  },
  {
   "cell_type": "markdown",
   "metadata": {},
   "source": [
    "### 10) WAP to print sum of n natural numbers."
   ]
  },
  {
   "cell_type": "code",
   "execution_count": 12,
   "metadata": {},
   "outputs": [
    {
     "name": "stdin",
     "output_type": "stream",
     "text": [
      "enter number 5\n"
     ]
    },
    {
     "name": "stdout",
     "output_type": "stream",
     "text": [
      "15\n"
     ]
    }
   ],
   "source": [
    "num=int(input(\"enter number\"))\n",
    "sum=0\n",
    "for i in range (1,num+1):\n",
    "    sum=sum+i\n",
    "print(sum)"
   ]
  },
  {
   "cell_type": "markdown",
   "metadata": {},
   "source": [
    "### 11) WAP to print sum of square of n natural numbers."
   ]
  },
  {
   "cell_type": "code",
   "execution_count": 14,
   "metadata": {},
   "outputs": [
    {
     "name": "stdin",
     "output_type": "stream",
     "text": [
      "enter number 5\n"
     ]
    },
    {
     "name": "stdout",
     "output_type": "stream",
     "text": [
      "55\n"
     ]
    }
   ],
   "source": [
    "import math\n",
    "num=int(input(\"enter number\"))\n",
    "sum=0\n",
    "for i in range (1,num+1):\n",
    "    sum=sum+pow(i,2)\n",
    "print(sum)"
   ]
  },
  {
   "cell_type": "markdown",
   "metadata": {},
   "source": [
    "### 12) WAP to concate the first and last name of the student."
   ]
  },
  {
   "cell_type": "code",
   "execution_count": 18,
   "metadata": {},
   "outputs": [
    {
     "name": "stdin",
     "output_type": "stream",
     "text": [
      "enter your first name thummar\n",
      "enter your last name jainil\n"
     ]
    },
    {
     "name": "stdout",
     "output_type": "stream",
     "text": [
      "thummar jainil\n"
     ]
    }
   ],
   "source": [
    "firstname=input(\"enter your first name\")\n",
    "lastname=input(\"enter your last name\")\n",
    "concate=firstname+\" \"+lastname\n",
    "print(concate)"
   ]
  },
  {
   "cell_type": "markdown",
   "metadata": {},
   "source": [
    "### 13) WAP to swap two numbers."
   ]
  },
  {
   "cell_type": "code",
   "execution_count": 25,
   "metadata": {},
   "outputs": [
    {
     "name": "stdout",
     "output_type": "stream",
     "text": [
      "enter number 1: 5\n",
      "enter number 2: 6\n"
     ]
    },
    {
     "name": "stdout",
     "output_type": "stream",
     "text": [
      "6 5\n"
     ]
    }
   ],
   "source": [
    "a=int(input(\"enter number 1:\"))\n",
    "b=int(input(\"enter number 2:\"))\n",
    "temp=a\n",
    "a=b\n",
    "b=temp\n",
    "print(a,b)"
   ]
  },
  {
   "cell_type": "markdown",
   "metadata": {},
   "source": [
    "### 14) WAP to get the distance from user into kilometer, and convert it into meter, feet, inches and centimeter."
   ]
  },
  {
   "cell_type": "code",
   "execution_count": 22,
   "metadata": {},
   "outputs": [
    {
     "name": "stdin",
     "output_type": "stream",
     "text": [
      "enter distence in kilometer 5\n"
     ]
    },
    {
     "name": "stdout",
     "output_type": "stream",
     "text": [
      "your distance in meter is 5000.0\n",
      "your distance in feet is 16404.2\n",
      "your distance in inches is 196850.40000000002\n",
      "your distance in cm is 500000.0\n"
     ]
    }
   ],
   "source": [
    "distance=float(input(\"enter distence in kilometer\"))\n",
    "ktom=1000*distance\n",
    "ktof=3280.84*distance\n",
    "ktoi=39370.08*distance\n",
    "kmtocm=100000*distance\n",
    "print(f\"your distance in meter is {ktom}\")\n",
    "print(f\"your distance in feet is {ktof}\")\n",
    "print(f\"your distance in inches is {ktoi}\")\n",
    "print(f\"your distance in cm is {kmtocm}\")"
   ]
  },
  {
   "cell_type": "markdown",
   "metadata": {},
   "source": [
    "### 15) WAP to get day, month and year from the user and print the date in the given format: 23-11-2024."
   ]
  },
  {
   "cell_type": "code",
   "execution_count": 43,
   "metadata": {},
   "outputs": [
    {
     "name": "stdin",
     "output_type": "stream",
     "text": [
      "Enter the day (e.g., twenty-three):  two\n",
      "Enter the month (e.g., November):  july\n",
      "Enter the year (e.g., two thousand twenty-four):  two thousand\n"
     ]
    },
    {
     "name": "stdout",
     "output_type": "stream",
     "text": [
      "2-7-2000\n"
     ]
    }
   ],
   "source": [
    "from word2number import w2n\n",
    "months = {\n",
    "    \"january\": 1, \"february\": 2, \"march\": 3, \"april\": 4,\n",
    "    \"may\": 5, \"june\": 6, \"july\": 7, \"august\": 8,\n",
    "    \"september\": 9, \"october\": 10, \"november\": 11, \"december\": 12\n",
    "}\n",
    "\n",
    "day = input(\"Enter the day (e.g., twenty-three): \").strip().lower()\n",
    "month = input(\"Enter the month (e.g., November): \").strip().lower()\n",
    "year = input(\"Enter the year (e.g., two thousand twenty-four): \").strip().lower()\n",
    "\n",
    "day_number = w2n.word_to_num(day)\n",
    "year_number = w2n.word_to_num(year)\n",
    "\n",
    "if month in months:\n",
    "        month_number = months[month]\n",
    "else:\n",
    "        print(\"Invalid month entered.\")\n",
    "        exit()\n",
    "\n",
    "print(f\"{day_number}-{month_number}-{year_number}\")"
   ]
  }
 ],
 "metadata": {
  "kernelspec": {
   "display_name": "Python 3 (ipykernel)",
   "language": "python",
   "name": "python3"
  },
  "language_info": {
   "codemirror_mode": {
    "name": "ipython",
    "version": 3
   },
   "file_extension": ".py",
   "mimetype": "text/x-python",
   "name": "python",
   "nbconvert_exporter": "python",
   "pygments_lexer": "ipython3",
   "version": "3.12.7"
  },
  "vscode": {
   "interpreter": {
    "hash": "31f2aee4e71d21fbe5cf8b01ff0e069b9275f58929596ceb00d14d90e3e16cd6"
   }
  }
 },
 "nbformat": 4,
 "nbformat_minor": 4
}
