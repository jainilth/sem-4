{
 "cells": [
  {
   "attachments": {},
   "cell_type": "markdown",
   "metadata": {},
   "source": [
    "<a href='https://www.darshan.ac.in/'> <img src='https://www.darshan.ac.in/Content/media/DU_Logo.svg' width=\"250\" height=\"300\"/></a>\n",
    "<pre>\n",
    "<center><b><h1>Python Programming - 2301CS404</b></center>\n",
    "<center><b><h1>Lab - 11</b></center>    \n",
    "<pre>"
   ]
  },
  {
   "cell_type": "markdown",
   "metadata": {},
   "source": [
    "<h1>name:thummar jainil</h1>\n",
    "<h1>enrollment number:23010101272 - 385</h1>"
   ]
  },
  {
   "cell_type": "markdown",
   "metadata": {},
   "source": [
    "# Modules"
   ]
  },
  {
   "cell_type": "markdown",
   "metadata": {},
   "source": [
    "### 01) WAP to create Calculator module which defines functions like add, sub,mul and div. \n",
    "### Create another .py file that uses the functions available in Calculator module."
   ]
  },
  {
   "cell_type": "code",
   "execution_count": 2,
   "metadata": {},
   "outputs": [
    {
     "name": "stdout",
     "output_type": "stream",
     "text": [
      "8\n",
      "-2\n",
      "15\n",
      "0.6\n"
     ]
    }
   ],
   "source": [
    "import calculator as cs\n",
    "print(cs.add(3,5))\n",
    "print(cs.sub(3,5))\n",
    "print(cs.mul(3,5))\n",
    "print(cs.div(3,5))"
   ]
  },
  {
   "cell_type": "markdown",
   "metadata": {},
   "source": [
    "### 02) WAP to pick a random character from a given String."
   ]
  },
  {
   "cell_type": "code",
   "execution_count": 4,
   "metadata": {},
   "outputs": [
    {
     "name": "stdout",
     "output_type": "stream",
     "text": [
      "a\n"
     ]
    }
   ],
   "source": [
    "import random\n",
    "s=\"thummar jaini\"\n",
    "print(random.choice(s))"
   ]
  },
  {
   "cell_type": "markdown",
   "metadata": {},
   "source": [
    "### 03) WAP to pick a random element from a given list."
   ]
  },
  {
   "cell_type": "code",
   "execution_count": 6,
   "metadata": {},
   "outputs": [
    {
     "name": "stdout",
     "output_type": "stream",
     "text": [
      "8\n"
     ]
    }
   ],
   "source": [
    "import random\n",
    "s=[1,2,3,4,5,6,7,8]\n",
    "print(random.choice(s))"
   ]
  },
  {
   "cell_type": "markdown",
   "metadata": {},
   "source": [
    "### 04) WAP to roll a dice in such a way that every time you get the same number."
   ]
  },
  {
   "cell_type": "code",
   "execution_count": 126,
   "metadata": {},
   "outputs": [
    {
     "name": "stdout",
     "output_type": "stream",
     "text": [
      "2\n"
     ]
    }
   ],
   "source": [
    "import random\n",
    "random.seed(1)\n",
    "print(random.randint(1,6))"
   ]
  },
  {
   "cell_type": "markdown",
   "metadata": {},
   "source": [
    "### 05) WAP to generate 3 random integers between 100 and 999 which is divisible by 5."
   ]
  },
  {
   "cell_type": "code",
   "execution_count": 151,
   "metadata": {},
   "outputs": [
    {
     "name": "stdout",
     "output_type": "stream",
     "text": [
      "930\n",
      "790\n",
      "660\n"
     ]
    }
   ],
   "source": [
    "import random\n",
    "i=0\n",
    "while(i<3):\n",
    "    num=random.randrange(100,999)\n",
    "    if(num%5==0):\n",
    "        print(num)\n",
    "        i+=1"
   ]
  },
  {
   "cell_type": "markdown",
   "metadata": {},
   "source": [
    "### 06) WAP to generate 100 random lottery tickets and pick two lucky tickets from it and announce them as Winner and Runner up respectively."
   ]
  },
  {
   "cell_type": "code",
   "execution_count": 175,
   "metadata": {},
   "outputs": [
    {
     "name": "stdout",
     "output_type": "stream",
     "text": [
      "Lottery Tickets Generated: [180852, 634008, 797562, 281657, 288289, 913914, 256828, 248413, 961457, 435317, 420468, 212069, 843780, 639343, 975235, 731130, 407746, 232434, 316783, 248562, 671990, 857730, 133302, 917620, 431422, 960912, 753816, 942904, 804851, 679811, 981557, 882431, 823092, 315413, 286808, 413447, 553653, 663601, 265566, 150917, 849547, 800216, 359309, 364856, 915557, 167543, 815208, 568393, 947514, 551067, 675951, 362374, 667675, 560743, 992645, 664196, 575329, 111394, 514932, 976914, 455120, 279849, 370500, 609380, 125594, 931591, 777840, 536924, 698321, 119829, 165348, 825303, 472185, 708248, 245001, 722378, 231207, 245223, 371699, 969200, 390365, 517120, 691472, 520565, 280537, 742195, 193582, 344873, 609604, 107840, 286204, 654383, 432651, 625231, 780357, 559608, 819861, 770156, 866951, 336695]\n",
      "Winner Ticket: 981557\n",
      "Runner-up Ticket: 849547\n"
     ]
    }
   ],
   "source": [
    "import random\n",
    "lottery_tickets = random.sample(range(100000, 999999),100)\n",
    "winner, runner_up = random.sample(lottery_tickets, 2)\n",
    "print(\"Lottery Tickets Generated:\", lottery_tickets)\n",
    "print(\"Winner Ticket:\", winner)\n",
    "print(\"Runner-up Ticket:\", runner_up)\n"
   ]
  },
  {
   "cell_type": "markdown",
   "metadata": {},
   "source": [
    "### 07) WAP to print current date and time in Python."
   ]
  },
  {
   "cell_type": "code",
   "execution_count": 1,
   "metadata": {},
   "outputs": [
    {
     "name": "stdout",
     "output_type": "stream",
     "text": [
      "2025-02-26 18:32:04.787495\n"
     ]
    }
   ],
   "source": [
    "from datetime import datetime\n",
    "y=datetime.now()\n",
    "print(y)"
   ]
  },
  {
   "cell_type": "markdown",
   "metadata": {},
   "source": [
    "### 08) Subtract a week (7 days) from a given date in Python."
   ]
  },
  {
   "cell_type": "code",
   "execution_count": 177,
   "metadata": {},
   "outputs": [
    {
     "name": "stdout",
     "output_type": "stream",
     "text": [
      "2025-02-06 13:30:13.268311\n"
     ]
    }
   ],
   "source": [
    "from datetime import timedelta,datetime\n",
    "y=datetime.now()\n",
    "y=y+timedelta(days=-7)\n",
    "print(y)"
   ]
  },
  {
   "cell_type": "markdown",
   "metadata": {},
   "source": [
    "### 09) WAP to Calculate number of days between two given dates."
   ]
  },
  {
   "cell_type": "code",
   "execution_count": 178,
   "metadata": {},
   "outputs": [
    {
     "name": "stdout",
     "output_type": "stream",
     "text": [
      "365\n"
     ]
    }
   ],
   "source": [
    "from datetime import datetime\n",
    "d1=datetime(2005,11,14)\n",
    "d2=datetime(2006,11,14)\n",
    "y=(d2-d1).days\n",
    "print(y)"
   ]
  },
  {
   "cell_type": "markdown",
   "metadata": {},
   "source": [
    "### 10) WAP to Find the day of the week of a given date.(i.e. wether it is sunday/monday/tuesday/etc.)"
   ]
  },
  {
   "cell_type": "code",
   "execution_count": 183,
   "metadata": {},
   "outputs": [
    {
     "name": "stdout",
     "output_type": "stream",
     "text": [
      "Thursday\n"
     ]
    }
   ],
   "source": [
    "import datetime\n",
    "\n",
    "day1 = datetime.datetime(2025, 2, 13, 12,40,10)\n",
    "print(day1.strftime(\"%A\"))\n"
   ]
  },
  {
   "cell_type": "markdown",
   "metadata": {},
   "source": [
    "### 11) WAP to demonstrate the use of date time module."
   ]
  },
  {
   "cell_type": "code",
   "execution_count": 181,
   "metadata": {},
   "outputs": [
    {
     "name": "stdout",
     "output_type": "stream",
     "text": [
      "2011\n",
      "Wednesday\n",
      "Wed\n",
      "10\n",
      "November\n",
      "AM\n",
      "2011-11-02 10:30:30\n"
     ]
    }
   ],
   "source": [
    "import datetime as d\n",
    "#datetime object\n",
    "day1 = d.datetime(2011,11,9,10,30,30)\n",
    "print(day1.year)\n",
    "print(day1.strftime(\"%A\"))\n",
    "print(day1.strftime(\"%a\"))\n",
    "print(day1.strftime(\"%H\"))\n",
    "print(day1.strftime(\"%B\"))\n",
    "print(day1.strftime(\"%p\"))\n",
    "\n",
    "print(day1 - d.timedelta(weeks=1))"
   ]
  },
  {
   "cell_type": "markdown",
   "metadata": {},
   "source": [
    "### 12) WAP to demonstrate the use of the math module."
   ]
  },
  {
   "cell_type": "code",
   "execution_count": 174,
   "metadata": {},
   "outputs": [
    {
     "name": "stdout",
     "output_type": "stream",
     "text": [
      "PI :  3.141592653589793\n",
      "Factorial of 5 : 120\n",
      "sqrt :  3.0\n",
      "square :  9.0\n"
     ]
    }
   ],
   "source": [
    "import math as m\n",
    "\n",
    "print(\"PI : \",m.pi)\n",
    "print(\"Factorial of 5 :\",m.factorial(5))\n",
    "print(\"sqrt : \",m.sqrt(9))\n",
    "print(\"square : \",m.pow(3,2))"
   ]
  },
  {
   "cell_type": "code",
   "execution_count": null,
   "metadata": {},
   "outputs": [],
   "source": []
  }
 ],
 "metadata": {
  "kernelspec": {
   "display_name": "Python 3 (ipykernel)",
   "language": "python",
   "name": "python3"
  },
  "language_info": {
   "codemirror_mode": {
    "name": "ipython",
    "version": 3
   },
   "file_extension": ".py",
   "mimetype": "text/x-python",
   "name": "python",
   "nbconvert_exporter": "python",
   "pygments_lexer": "ipython3",
   "version": "3.12.7"
  }
 },
 "nbformat": 4,
 "nbformat_minor": 4
}
