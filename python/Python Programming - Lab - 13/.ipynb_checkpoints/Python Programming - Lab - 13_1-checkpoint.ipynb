{
 "cells": [
  {
   "cell_type": "markdown",
   "metadata": {},
   "source": [
    "<a href='https://www.darshan.ac.in/'> <img src='https://www.darshan.ac.in/Content/media/DU_Logo.svg' width=\"250\" height=\"300\"/></a>\n",
    "<pre>\n",
    "<center><b><h1>Python Programming - 2301CS404</b></center>\n",
    "<center><b><h1>Lab - 13</b></center>    \n",
    "<pre>"
   ]
  },
  {
   "cell_type": "markdown",
   "metadata": {},
   "source": [
    "<h1>name:thummar jainil</h1>\n",
    "<h1>enrollment number:23010101272 - 385</h1>"
   ]
  },
  {
   "cell_type": "markdown",
   "metadata": {},
   "source": [
    "# OOP"
   ]
  },
  {
   "cell_type": "markdown",
   "metadata": {},
   "source": [
    "### 01) Write a Program to create a class by name Students, and initialize attributes like name, age, and grade while creating an object."
   ]
  },
  {
   "cell_type": "code",
   "execution_count": 1,
   "metadata": {},
   "outputs": [],
   "source": [
    "class Student:\n",
    "    def __init__(self,name,age,grede):\n",
    "        self.name=name\n",
    "        self.age=age\n",
    "        self.grade=grade"
   ]
  },
  {
   "cell_type": "markdown",
   "metadata": {},
   "source": [
    "### 02) Create a class named Bank_Account with Account_No, User_Name, Email,Account_Type and Account_Balance data members. Also create a method GetAccountDetails() and DisplayAccountDetails(). Create main method to demonstrate the Bank_Account class."
   ]
  },
  {
   "cell_type": "code",
   "execution_count": 2,
   "metadata": {},
   "outputs": [
    {
     "name": "stdin",
     "output_type": "stream",
     "text": [
      "enter account no. 1\n",
      "enter username jainil\n",
      "enter email jainilthummar@123\n",
      "enter account type business\n",
      "enter balance 50000\n"
     ]
    },
    {
     "name": "stdout",
     "output_type": "stream",
     "text": [
      "\n",
      "----- Account Details -----\n",
      "Account Number: 1\n",
      "User Name: jainil\n",
      "Email: jainilthummar@123\n",
      "Account Type: business\n",
      "Account Balance: $50000.00\n"
     ]
    }
   ],
   "source": [
    "class Bank_Account:\n",
    "    def __init__(self,account_no,user_name,email,account_type,account_balance):\n",
    "        self.account_no = account_no\n",
    "        self.user_name = user_name\n",
    "        self.email = email\n",
    "        self.account_type = account_type\n",
    "        self.account_balance = account_balance\n",
    "    \n",
    "    def GetAccountDetails(self):\n",
    "        self.account_no = input(\"enter account no.\")\n",
    "        self.user_name = input(\"enter username\")\n",
    "        self.email = input(\"enter email\")\n",
    "        self.account_type = input(\"enter account type\")\n",
    "        self.account_balance = float(input(\"enter balance\"))\n",
    "        \n",
    "    def DisplayAccountDetails(self):\n",
    "        print(\"\\n----- Account Details -----\")\n",
    "        print(f\"Account Number: {self.account_no}\")\n",
    "        print(f\"User Name: {self.user_name}\")\n",
    "        print(f\"Email: {self.email}\")\n",
    "        print(f\"Account Type: {self.account_type}\")\n",
    "        print(f\"Account Balance: ${self.account_balance:.2f}\")\n",
    "        \n",
    "userdetails = Bank_Account(123,'jainil','jainil@gmail.com','current','50000')\n",
    "userdetails.DisplayAccountDetails\n",
    "\n",
    "def main():\n",
    "  \n",
    "    account = Bank_Account(\"\", \"\", \"\", \"\", 0.0)\n",
    "\n",
    "   \n",
    "    account.GetAccountDetails()\n",
    "\n",
    "\n",
    "    account.DisplayAccountDetails()\n",
    "\n",
    "if __name__ == \"__main__\":\n",
    "    main()"
   ]
  },
  {
   "cell_type": "markdown",
   "metadata": {},
   "source": [
    "### 03) WAP to create Circle class with area and perimeter function to find area and perimeter of circle."
   ]
  },
  {
   "cell_type": "code",
   "execution_count": 3,
   "metadata": {},
   "outputs": [
    {
     "name": "stdin",
     "output_type": "stream",
     "text": [
      "Enter radius= 5\n"
     ]
    },
    {
     "name": "stdout",
     "output_type": "stream",
     "text": [
      "Area =  78.5\n",
      "Perimeter =  31.400000000000002\n"
     ]
    }
   ],
   "source": [
    "class Circle: \n",
    "    def __init__(self,r): \n",
    "        self.r = r \n",
    "        \n",
    "    def findarea(self): \n",
    "        return 3.14* self.r * self.r\n",
    "        \n",
    "    def perimeter(self):\n",
    "        return 2*3.14*self.r\n",
    "r = int(input(\"Enter radius=\")) \n",
    "c = Circle(r) \n",
    " \n",
    "area = c.findarea()\n",
    "perimeter=c.perimeter()\n",
    "print(\"Area = \",area)\n",
    "print(\"Perimeter = \",perimeter)"
   ]
  },
  {
   "cell_type": "markdown",
   "metadata": {},
   "source": [
    "### 04) Create a class for employees that includes attributes such as name, age, salary, and methods to update and display employee information."
   ]
  },
  {
   "cell_type": "code",
   "execution_count": 6,
   "metadata": {},
   "outputs": [
    {
     "name": "stdout",
     "output_type": "stream",
     "text": [
      "Employee Name: jainil\n",
      "Employee Age: 21\n",
      "Employee Salary: 50000\n",
      "Employee Name: jainil thummar\n",
      "Employee Age: 31\n",
      "Employee Salary: 55000\n"
     ]
    }
   ],
   "source": [
    "class Employee:\n",
    "    def __init__(self, name, age, salary):\n",
    "        self.name = name\n",
    "        self.age = age\n",
    "        self.salary = salary\n",
    "\n",
    "\n",
    "    def update_name(self, new_name):\n",
    "        self.name = new_name\n",
    "\n",
    "   \n",
    "    def update_age(self, new_age):\n",
    "        self.age = new_age\n",
    "\n",
    "    \n",
    "    def update_salary(self, new_salary):\n",
    "        self.salary = new_salary\n",
    "\n",
    "   \n",
    "    def display_info(self):\n",
    "        print(f\"Employee Name: {self.name}\")\n",
    "        print(f\"Employee Age: {self.age}\")\n",
    "        print(f\"Employee Salary: {self.salary}\")\n",
    "\n",
    "\n",
    "employee1 = Employee(\"jainil\", 21, 50000)\n",
    "employee1.display_info()\n",
    "\n",
    "\n",
    "employee1.update_name(\"jainil thummar\")\n",
    "employee1.update_age(31)\n",
    "employee1.update_salary(55000)\n",
    "\n",
    "\n",
    "employee1.display_info()\n"
   ]
  },
  {
   "cell_type": "markdown",
   "metadata": {},
   "source": [
    "### 05) Create a bank account class with methods to deposit, withdraw, and check balance."
   ]
  },
  {
   "cell_type": "code",
   "execution_count": 8,
   "metadata": {},
   "outputs": [
    {
     "name": "stdout",
     "output_type": "stream",
     "text": [
      "Account balance: $1000.00\n",
      "Deposited $500.00. New balance: $1500.00\n",
      "Withdrew $200.00. New balance: $1300.00\n",
      "Insufficient balance!\n",
      "Account balance: $1300.00\n"
     ]
    }
   ],
   "source": [
    "class BankAccount:\n",
    "    def __init__(self, account_holder, balance=0.0):\n",
    "        self.account_holder = account_holder\n",
    "        self.balance = balance\n",
    "\n",
    "    def deposit(self, amount):\n",
    "        if amount > 0:\n",
    "            self.balance += amount\n",
    "            print(f\"Deposited ${amount:.2f}. New balance: ${self.balance:.2f}\")\n",
    "        else:\n",
    "            print(\"Deposit amount must be positive.\")\n",
    "\n",
    "    def withdraw(self, amount):\n",
    "        if amount <= 0:\n",
    "            print(\"Withdrawal amount must be positive.\")\n",
    "        elif amount > self.balance:\n",
    "            print(\"Insufficient balance!\")\n",
    "        else:\n",
    "            self.balance -= amount\n",
    "            print(f\"Withdrew ${amount:.2f}. New balance: ${self.balance:.2f}\")\n",
    "            \n",
    "    def check_balance(self):\n",
    "        print(f\"Account balance: ${self.balance:.2f}\")\n",
    "\n",
    "\n",
    "account = BankAccount(\"Utsav\", 1000)\n",
    "account.check_balance()\n",
    "\n",
    "account.deposit(500)\n",
    "account.withdraw(200)\n",
    "account.withdraw(2000) \n",
    "account.check_balance()"
   ]
  },
  {
   "cell_type": "markdown",
   "metadata": {},
   "source": [
    "### 06) Create a class for managing inventory that includes attributes such as item name, price, quantity, and methods to add, remove, and update items."
   ]
  },
  {
   "cell_type": "code",
   "execution_count": 9,
   "metadata": {},
   "outputs": [
    {
     "name": "stdout",
     "output_type": "stream",
     "text": [
      "Name: LCD\n",
      "price: 50000\n",
      "quantity: 50\n",
      "Name: LCD\n",
      "price: 55000\n",
      "quantity: 50\n",
      "Item removed from inventory.\n",
      "Name: None\n",
      "price: None\n",
      "quantity: None\n"
     ]
    }
   ],
   "source": [
    "class managing_inventory:\n",
    "    def __init__(self, name, price,quantity):\n",
    "        self.name = name\n",
    "        self.price = price\n",
    "        self.quantity=quantity\n",
    "        \n",
    "    def add(self):\n",
    "        self.name = input(\"enter name.\")\n",
    "        self.price = input(\"enter price\")\n",
    "        self.quantity = input(\"enter quantity\")\n",
    "    def update_name(self, new_name):\n",
    "        self.name = new_name\n",
    "   \n",
    "    def update_price(self, new_price):\n",
    "        self.price = new_price\n",
    "    \n",
    "    def update_quantity(self, new_quantity):\n",
    "        self.quantity = new_quantity\n",
    "        \n",
    "    def display_info(self):\n",
    "        print(f\"Name: {self.name}\")\n",
    "        print(f\"price: {self.price}\")\n",
    "        print(f\"quantity: {self.quantity}\")\n",
    "    def remove(self):\n",
    "        \n",
    "        self.name = None\n",
    "        self.price = None\n",
    "        self.quantity = None\n",
    "        print(\"Item removed from inventory.\")\n",
    "    \n",
    "b1=managing_inventory(\"LCD\",50000,50)\n",
    "b1.display_info()\n",
    "b1.update_price(55000)\n",
    "b1.display_info()\n",
    "b1.remove()\n",
    "b1.display_info()"
   ]
  },
  {
   "cell_type": "markdown",
   "metadata": {},
   "source": [
    "### 07) Create a Class with instance attributes of your choice."
   ]
  },
  {
   "cell_type": "code",
   "execution_count": 10,
   "metadata": {},
   "outputs": [
    {
     "name": "stdout",
     "output_type": "stream",
     "text": [
      "Car Details:\n",
      "Make: Tesla\n",
      "Model: Model S\n",
      "Year: 2023\n",
      "Color: Red\n"
     ]
    }
   ],
   "source": [
    "class Car:\n",
    "    def __init__(self, make, model, year, color):\n",
    "       \n",
    "        self.make = make\n",
    "        self.model = model\n",
    "        self.year = year\n",
    "        self.color = color\n",
    "    def display_details(self):\n",
    "        \n",
    "        print(f\"Car Details:\")\n",
    "        print(f\"Make: {self.make}\")\n",
    "        print(f\"Model: {self.model}\")\n",
    "        print(f\"Year: {self.year}\")\n",
    "        print(f\"Color: {self.color}\")\n",
    "my_car = Car(make=\"Tesla\", model=\"Model S\", year=2023, color=\"Red\")\n",
    "my_car.display_details()"
   ]
  },
  {
   "cell_type": "markdown",
   "metadata": {},
   "source": [
    "### 08) Create one class student_kit\n",
    "#### Within the student_kit class create one class attribute principal name ( Mr ABC )\n",
    "#### Create one attendance method and take input as number of days.\n",
    "#### While creating student take input their name .\n",
    "#### Create one certificate for each student by taking input of number of days present in class."
   ]
  },
  {
   "cell_type": "code",
   "execution_count": 11,
   "metadata": {},
   "outputs": [
    {
     "name": "stdin",
     "output_type": "stream",
     "text": [
      "Enter student name:  jainil\n",
      "Enter number of days jainil was present:  50\n"
     ]
    },
    {
     "name": "stdout",
     "output_type": "stream",
     "text": [
      "Certificate of Attendance\n",
      "Student Name: jainil\n",
      "Principal: Mr. ABC\n",
      "Days Present: 50\n",
      "Total Days of School: 180\n",
      "Certificate awarded for attendance.\n",
      "\n"
     ]
    }
   ],
   "source": [
    "class StudentKit:\n",
    "    \n",
    "    principal_name = \"Mr. ABC\"\n",
    "    def __init__(self, student_name):\n",
    "        self.student_name = student_name\n",
    "        self.attendance_days = 0\n",
    "    def take_attendance(self, days_present):\n",
    "        \n",
    "        self.attendance_days = days_present\n",
    "    def generate_certificate(self):\n",
    "       \n",
    "        print(f\"Certificate of Attendance\")\n",
    "        print(f\"Student Name: {self.student_name}\")\n",
    "        print(f\"Principal: {StudentKit.principal_name}\")\n",
    "        print(f\"Days Present: {self.attendance_days}\")\n",
    "        print(f\"Total Days of School: 180\")\n",
    "        print(\"Certificate awarded for attendance.\\n\")\n",
    "student_name = input(\"Enter student name: \")\n",
    "student = StudentKit(student_name)\n",
    "days_present = int(input(f\"Enter number of days {student_name} was present: \"))\n",
    "student.take_attendance(days_present)\n",
    "student.generate_certificate()"
   ]
  },
  {
   "cell_type": "markdown",
   "metadata": {},
   "source": [
    "### 09) Define Time class with hour and minute as data member. Also define addition method to add two time objects."
   ]
  },
  {
   "cell_type": "code",
   "execution_count": 12,
   "metadata": {},
   "outputs": [
    {
     "name": "stdout",
     "output_type": "stream",
     "text": [
      "Resulting time: 6 hours, 15 minutes\n"
     ]
    }
   ],
   "source": [
    "class Time:\n",
    "    def __init__(self, hour, minute):\n",
    "        self.hour = hour\n",
    "        self.minute = minute\n",
    "    def add_time(self, other):\n",
    "        \n",
    "        total_minutes = self.minute + other.minute\n",
    "        total_hours = self.hour + other.hour + total_minutes // 60\n",
    "        total_minutes = total_minutes % 60\n",
    "        \n",
    "       \n",
    "        return Time(total_hours, total_minutes)\n",
    "    \n",
    "    def __str__(self):\n",
    "        return f\"{self.hour} hours, {self.minute} minutes\"\n",
    "time1 = Time(2, 45)\n",
    "time2 = Time(3, 30)\n",
    "result = time1.add_time(time2)\n",
    "print(f\"Resulting time: {result}\")"
   ]
  },
  {
   "cell_type": "code",
   "execution_count": null,
   "metadata": {},
   "outputs": [],
   "source": []
  }
 ],
 "metadata": {
  "kernelspec": {
   "display_name": "Python 3 (ipykernel)",
   "language": "python",
   "name": "python3"
  },
  "language_info": {
   "codemirror_mode": {
    "name": "ipython",
    "version": 3
   },
   "file_extension": ".py",
   "mimetype": "text/x-python",
   "name": "python",
   "nbconvert_exporter": "python",
   "pygments_lexer": "ipython3",
   "version": "3.12.7"
  }
 },
 "nbformat": 4,
 "nbformat_minor": 4
}
