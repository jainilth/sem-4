{
 "cells": [
  {
   "cell_type": "markdown",
   "metadata": {},
   "source": [
    "\n",
    "<a href='https://www.darshan.ac.in/'> <img src='https://www.darshan.ac.in/Content/media/DU_Logo.svg' width=\"250\" height=\"300\"/></a>\n",
    "<pre>\n",
    "<center><b><h1>Python Programming - 2301CS404</b></center>\n",
    "<center><b><h1>Lab - 2</b></center>\n",
    "<pre>"
   ]
  },
  {
   "cell_type": "markdown",
   "metadata": {},
   "source": [
    "<h1>name:thummar jainil</h1>\n",
    "<h1>enrollment number:23010101272 - 385</h1>"
   ]
  },
  {
   "cell_type": "markdown",
   "metadata": {},
   "source": [
    "# if..else.."
   ]
  },
  {
   "cell_type": "markdown",
   "metadata": {},
   "source": [
    "### 01) WAP to check whether the given number is positive or negative."
   ]
  },
  {
   "cell_type": "code",
   "execution_count": 3,
   "metadata": {},
   "outputs": [
    {
     "name": "stdin",
     "output_type": "stream",
     "text": [
      "enter a number -4\n"
     ]
    },
    {
     "name": "stdout",
     "output_type": "stream",
     "text": [
      "the number is negitive\n"
     ]
    }
   ],
   "source": [
    "number=int(input(\"enter a number\"))\n",
    "if number>=0:\n",
    "    print(\"the number is positive\")\n",
    "else:\n",
    "    print(\"the number is negitive\")"
   ]
  },
  {
   "cell_type": "markdown",
   "metadata": {},
   "source": [
    "### 02) WAP to check whether the given number is odd or even."
   ]
  },
  {
   "cell_type": "code",
   "execution_count": 10,
   "metadata": {},
   "outputs": [
    {
     "name": "stdin",
     "output_type": "stream",
     "text": [
      "enter a number 5\n"
     ]
    },
    {
     "name": "stdout",
     "output_type": "stream",
     "text": [
      "the number is odd\n"
     ]
    }
   ],
   "source": [
    "number=int(input(\"enter a number\"))\n",
    "if number%2==0:\n",
    "    print(\"the number is even\")\n",
    "else:\n",
    "    print(\"the number is odd\")"
   ]
  },
  {
   "cell_type": "markdown",
   "metadata": {},
   "source": [
    "### 03) WAP to find out largest number from given two numbers using simple if and ternary operator."
   ]
  },
  {
   "cell_type": "code",
   "execution_count": 14,
   "metadata": {},
   "outputs": [
    {
     "name": "stdin",
     "output_type": "stream",
     "text": [
      "enter nubmer 5\n",
      "enter nubmer 6\n"
     ]
    },
    {
     "name": "stdout",
     "output_type": "stream",
     "text": [
      "number2 is large\n"
     ]
    }
   ],
   "source": [
    "number1=int(input(\"enter nubmer\"))\n",
    "number2=int(input(\"enter nubmer\"))\n",
    "print(\"number2 is large\") if number1<number2 else print(\"number1 is large\")"
   ]
  },
  {
   "cell_type": "markdown",
   "metadata": {},
   "source": [
    "### 04) WAP to find out largest number from given three numbers."
   ]
  },
  {
   "cell_type": "code",
   "execution_count": 22,
   "metadata": {},
   "outputs": [
    {
     "name": "stdin",
     "output_type": "stream",
     "text": [
      "enter 1 nubmer 3\n",
      "enter 2 nubmer 1\n",
      "enter 3 nubmer 2\n"
     ]
    },
    {
     "name": "stdout",
     "output_type": "stream",
     "text": [
      "3 is largest\n"
     ]
    }
   ],
   "source": [
    "num1=int(input(\"enter 1 nubmer\"))\n",
    "num2=int(input(\"enter 2 nubmer\"))\n",
    "num3=int(input(\"enter 3 nubmer\"))\n",
    "if num1>num2:\n",
    "    if num1>num3:\n",
    "        print(f\"{num1} is largest\")\n",
    "    else:\n",
    "        print(f\"{num3} is largest\")\n",
    "else:\n",
    "    if num2>num3:\n",
    "        print(f\"{num2} is largest\")\n",
    "    else:\n",
    "        print(f\"{num3} is largest\")"
   ]
  },
  {
   "cell_type": "markdown",
   "metadata": {},
   "source": [
    "### 05) WAP to check whether the given year is leap year or not.\n",
    "[If a year can be divisible by 4 but not divisible by 100 then it is leap year but if it is divisible by 400 then it is leap year]"
   ]
  },
  {
   "cell_type": "code",
   "execution_count": 30,
   "metadata": {},
   "outputs": [
    {
     "name": "stdin",
     "output_type": "stream",
     "text": [
      "etner year 2000\n"
     ]
    },
    {
     "name": "stdout",
     "output_type": "stream",
     "text": [
      "leap year\n"
     ]
    }
   ],
   "source": [
    "year=int(input(\"etner year\"))\n",
    "if (year%4==0 and year%100!=0) or (year%400==0):\n",
    "    print(\"leap year\")\n",
    "else:\n",
    "    print(\"not\")"
   ]
  },
  {
   "cell_type": "markdown",
   "metadata": {},
   "source": [
    "### 06) WAP in python to display the name of the day according to the number given by the user."
   ]
  },
  {
   "cell_type": "code",
   "execution_count": 44,
   "metadata": {},
   "outputs": [
    {
     "name": "stdin",
     "output_type": "stream",
     "text": [
      "etner day number 2\n"
     ]
    },
    {
     "name": "stdout",
     "output_type": "stream",
     "text": [
      "monday\n"
     ]
    }
   ],
   "source": [
    "day=int(input(\"etner day number\"))\n",
    "match day:\n",
    "    case 1:\n",
    "        print(\"sunday\")\n",
    "    case 2:\n",
    "        print(\"monday\")\n",
    "    case 3:\n",
    "        print(\"tuesday\")\n",
    "    case 4:\n",
    "        print(\"wednesday\")\n",
    "    case 5:\n",
    "        print(\"thursday\")\n",
    "    case 6:\n",
    "        print(\"friday\")\n",
    "    case 7:\n",
    "        print(\"saturday\")\n",
    "    case _:\n",
    "        print(\"enter number between 1 to 7\")"
   ]
  },
  {
   "cell_type": "markdown",
   "metadata": {},
   "source": [
    "### 07) WAP to implement simple calculator which performs (add,sub,mul,div) of two no. based on user input."
   ]
  },
  {
   "cell_type": "code",
   "execution_count": 46,
   "metadata": {},
   "outputs": [
    {
     "name": "stdin",
     "output_type": "stream",
     "text": [
      "etner number for operation,1:sum,2:sub,3:mul,4:div:- 4\n",
      "enter 1 nubmer 6\n",
      "enter 2 nubmer 3\n"
     ]
    },
    {
     "name": "stdout",
     "output_type": "stream",
     "text": [
      "2.0\n"
     ]
    }
   ],
   "source": [
    "day=int(input(\"etner number for operation,1:sum,2:sub,3:mul,4:div:-\"))\n",
    "num1=int(input(\"enter 1 nubmer\"))\n",
    "num2=int(input(\"enter 2 nubmer\"))\n",
    "match day:\n",
    "    case 1:\n",
    "        print(num1+num2)\n",
    "    case 2:\n",
    "        print(num1-num2)\n",
    "    case 3:\n",
    "        print(num1*num2)\n",
    "    case 4:\n",
    "        print(num1/num2)\n",
    "    case _:\n",
    "        print(\"enter number between 1 to 4\")"
   ]
  },
  {
   "cell_type": "markdown",
   "metadata": {},
   "source": [
    "### 08) WAP to read marks of five subjects. Calculate percentage and print class accordingly. \n",
    "Fail below 35 </br>\n",
    "Pass Class between 35 to 45 </br>\n",
    "Second Class</br>\n",
    "between 45 to 60</br>\n",
    "First Class between 60 to 70</br> \n",
    "Distinction if more than 70"
   ]
  },
  {
   "cell_type": "code",
   "execution_count": 54,
   "metadata": {},
   "outputs": [
    {
     "name": "stdin",
     "output_type": "stream",
     "text": [
      "enter sub1's marks 50\n",
      "enter sub2's marks 90\n",
      "enter sub3's marks 4\n",
      "enter sub4's marks 60\n",
      "enter sub5's marks 80\n"
     ]
    },
    {
     "name": "stdout",
     "output_type": "stream",
     "text": [
      "second class\n",
      "your percentage is 56.8%\n"
     ]
    }
   ],
   "source": [
    "sub1=int(input(\"enter sub1's marks\"))\n",
    "sub2=int(input(\"enter sub2's marks\"))\n",
    "sub3=int(input(\"enter sub3's marks\"))\n",
    "sub4=int(input(\"enter sub4's marks\"))\n",
    "sub5=int(input(\"enter sub5's marks\"))\n",
    "avg=(sub1+sub2+sub3+sub4+sub5)/5\n",
    "if avg>70:\n",
    "    print(\"Distinction\")\n",
    "elif avg>60:\n",
    "    print(\"first class\")\n",
    "if avg>45:\n",
    "    print(\"second class\")\n",
    "else:\n",
    "    print(\"fail\")\n",
    "print(f\"your percentage is {avg}%\")"
   ]
  },
  {
   "cell_type": "markdown",
   "metadata": {},
   "source": [
    "### 09) Three sides of a triangle are entered through the keyboard, WAP to check whether the triangle is isosceles, equilateral, scalene or right-angled triangle."
   ]
  },
  {
   "cell_type": "code",
   "execution_count": 76,
   "metadata": {},
   "outputs": [
    {
     "name": "stdin",
     "output_type": "stream",
     "text": [
      "enter sub1's marks 5\n",
      "enter sub2's marks 12\n",
      "enter sub3's marks 13\n"
     ]
    },
    {
     "name": "stdout",
     "output_type": "stream",
     "text": [
      "right-angled and scalene\n"
     ]
    }
   ],
   "source": [
    "size1=int(input(\"enter sub1's marks\"))\n",
    "size2=int(input(\"enter sub2's marks\"))\n",
    "size3=int(input(\"enter sub3's marks\"))\n",
    "if size1==size2==size3:\n",
    "    print(\"equilateral\")\n",
    "elif size1==size2!=size3 or size1!=size2==size3:\n",
    "    print(\"isosceles\")\n",
    "elif (size1*size1)==(size2*size2)+(size3*size3) or (size2*size2)==(size1*size1)+(size3*size3) or (size3*size3)==(size2*size2)+(size1*size1):\n",
    "    print(\"right-angled and scalene\")\n",
    "else:\n",
    "    print(\"scalene\")"
   ]
  },
  {
   "cell_type": "markdown",
   "metadata": {},
   "source": [
    "### 10) WAP to find the second largest number among three user input numbers."
   ]
  },
  {
   "cell_type": "code",
   "execution_count": 70,
   "metadata": {},
   "outputs": [
    {
     "name": "stdin",
     "output_type": "stream",
     "text": [
      "enter 1 nubmer 1\n",
      "enter 2 nubmer 2\n",
      "enter 3 nubmer 3\n"
     ]
    },
    {
     "name": "stdout",
     "output_type": "stream",
     "text": [
      "2 is second largest\n"
     ]
    }
   ],
   "source": [
    "num1=int(input(\"enter 1 nubmer\"))\n",
    "num2=int(input(\"enter 2 nubmer\"))\n",
    "num3=int(input(\"enter 3 nubmer\"))\n",
    "if num1>num2:\n",
    "    if num1>num3:\n",
    "        print(f\"{num3} is second largest\")\n",
    "    else:\n",
    "        print(f\"{num1} is second largest\")\n",
    "else:\n",
    "    if num2>num3:\n",
    "        print(f\"{num3} is second largest\")\n",
    "    else:\n",
    "        print(f\"{num2} is second largest\")"
   ]
  },
  {
   "cell_type": "markdown",
   "metadata": {},
   "source": [
    "### 11) WAP to calculate electricity bill based on following criteria. Which takes the unit from the user.\n",
    "a. First 1 to 50 units – Rs. 2.60/unit</br>\n",
    "b. Next 50 to 100 units – Rs. 3.25/unit</br>\n",
    "c. Next 100 to 200 units – Rs. 5.26/unit</br>\n",
    "d. above 200 units – Rs. 8.45/unit"
   ]
  },
  {
   "cell_type": "code",
   "execution_count": 1,
   "metadata": {},
   "outputs": [
    {
     "name": "stdin",
     "output_type": "stream",
     "text": [
      "Enter Unit  :  500\n"
     ]
    },
    {
     "name": "stdout",
     "output_type": "stream",
     "text": [
      "3712.2\n"
     ]
    }
   ],
   "source": [
    "u = int(input(\"Enter Unit  : \"))\n",
    "\n",
    "if(u<=50) :\n",
    "\t\tr=u*2.60;\n",
    "elif(u<=150) :\n",
    "\t\tr=50*260+(u-50)*3.25\n",
    "elif(u<=250) :\n",
    "\t\tr=50*2.60+100*3.25+(u-150)*5.26\n",
    "elif (u>250) :\n",
    "\t\tr=50*2.60+100*3.25+100*5.26+(u-250)*8.45\n",
    "\n",
    "i=r*0.20\n",
    "r=r+i\n",
    "\n",
    "print(r)"
   ]
  },
  {
   "cell_type": "code",
   "execution_count": null,
   "metadata": {},
   "outputs": [],
   "source": []
  }
 ],
 "metadata": {
  "kernelspec": {
   "display_name": "Python 3 (ipykernel)",
   "language": "python",
   "name": "python3"
  },
  "language_info": {
   "codemirror_mode": {
    "name": "ipython",
    "version": 3
   },
   "file_extension": ".py",
   "mimetype": "text/x-python",
   "name": "python",
   "nbconvert_exporter": "python",
   "pygments_lexer": "ipython3",
   "version": "3.12.7"
  }
 },
 "nbformat": 4,
 "nbformat_minor": 4
}
