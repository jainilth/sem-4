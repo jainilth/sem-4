{
 "cells": [
  {
   "attachments": {},
   "cell_type": "markdown",
   "metadata": {},
   "source": [
    "<a href='https://www.darshan.ac.in/'> <img src='https://www.darshan.ac.in/Content/media/DU_Logo.svg' width=\"250\" height=\"300\"/></a>\n",
    "<pre>\n",
    "<center><b><h1>Python Programming - 2301CS404</b></center>\n",
    "<center><b><h1>Lab - 6</b></center>    \n",
    "<pre>"
   ]
  },
  {
   "cell_type": "markdown",
   "metadata": {},
   "source": [
    "<h1>name:thummar jainil</h1>\n",
    "<h1>enrollment number:23010101272 - 385</h1>"
   ]
  },
  {
   "cell_type": "markdown",
   "metadata": {},
   "source": [
    "# Tuple"
   ]
  },
  {
   "cell_type": "markdown",
   "metadata": {},
   "source": [
    "### 01) WAP to find sum of tuple elements."
   ]
  },
  {
   "cell_type": "code",
   "execution_count": 2,
   "metadata": {},
   "outputs": [
    {
     "name": "stdout",
     "output_type": "stream",
     "text": [
      "176\n"
     ]
    }
   ],
   "source": [
    "t1=(2,4,23,54,6,23,64)\n",
    "sum=0\n",
    "for i in t1:\n",
    "    sum+=i\n",
    "print(sum)"
   ]
  },
  {
   "cell_type": "markdown",
   "metadata": {},
   "source": [
    "### 02) WAP to find Maximum and Minimum K elements in a given tuple."
   ]
  },
  {
   "cell_type": "code",
   "execution_count": 60,
   "metadata": {},
   "outputs": [
    {
     "name": "stdin",
     "output_type": "stream",
     "text": [
      "enter a number 3\n"
     ]
    },
    {
     "name": "stdout",
     "output_type": "stream",
     "text": [
      "[2, 4, 6]\n",
      "[23, 54, 64]\n"
     ]
    }
   ],
   "source": [
    "t1=(2,4,23,54,6,23,64,2,4)\n",
    "t1=sorted(tuple(set(t1)))\n",
    "n=int(input(\"enter a number\"))\n",
    "print(t1[:k])\n",
    "print(t1[len(t1)-k:])"
   ]
  },
  {
   "cell_type": "markdown",
   "metadata": {},
   "source": [
    "### 03) WAP to find tuples which have all elements divisible by K from a list of tuples."
   ]
  },
  {
   "cell_type": "code",
   "execution_count": 30,
   "metadata": {},
   "outputs": [
    {
     "name": "stdin",
     "output_type": "stream",
     "text": [
      "enter a number 3\n"
     ]
    },
    {
     "name": "stdout",
     "output_type": "stream",
     "text": [
      "(3, 6, 9)\n",
      "(6, 12, 18)\n"
     ]
    }
   ],
   "source": [
    "l1=[(2,4,6),(3,6,9),(4,8,12),(5,10,15),(6,12,18)]\n",
    "n=int(input(\"enter a number\"))\n",
    "for i in l1:\n",
    "    count=0\n",
    "    for j in i:\n",
    "        if (j%n==0):\n",
    "           continue\n",
    "        else:\n",
    "            count+=1\n",
    "    if(count==0):\n",
    "        print(i)"
   ]
  },
  {
   "cell_type": "markdown",
   "metadata": {},
   "source": [
    "### 04) WAP to create a list of tuples from given list having number and its cube in each tuple."
   ]
  },
  {
   "cell_type": "code",
   "execution_count": null,
   "metadata": {},
   "outputs": [],
   "source": [
    "l1=[(2,4,6),(3,6,9),(4,8,12),(5,10,15),(6,12,18)]\n"
   ]
  },
  {
   "cell_type": "markdown",
   "metadata": {},
   "source": [
    "### 05) WAP to find tuples with all positive elements from the given list of tuples."
   ]
  },
  {
   "cell_type": "code",
   "execution_count": 64,
   "metadata": {},
   "outputs": [
    {
     "name": "stdout",
     "output_type": "stream",
     "text": [
      "(2, 4, 6)\n",
      "(3, 6, 9)\n",
      "(6, 12, 18)\n"
     ]
    }
   ],
   "source": [
    "l1=[(2,4,6),(3,6,9),(4,8,-12),(-5,10,15),(6,12,18)]\n",
    "for i in l1:\n",
    "    count=0\n",
    "    for j in i:\n",
    "        if (j>0):\n",
    "           continue\n",
    "        else:\n",
    "            count+=1\n",
    "    if(count==0):\n",
    "        print(i)"
   ]
  },
  {
   "cell_type": "markdown",
   "metadata": {},
   "source": [
    "### 06) WAP to add tuple to list and vice – versa."
   ]
  },
  {
   "cell_type": "code",
   "execution_count": 1,
   "metadata": {},
   "outputs": [
    {
     "name": "stdout",
     "output_type": "stream",
     "text": [
      "([1, 2, 3], [1, 2, 3], [1, 2, 3])\n",
      "[(1, 2, 3), (1, 2, 3), (1, 2, 3)]\n"
     ]
    }
   ],
   "source": [
    "\n",
    "t1 = []\n",
    "a = [1,2,3]\n",
    "b = [1,2,3]\n",
    "c = [1,2,3]\n",
    "t1.append(a)\n",
    "t1.append(b)\n",
    "t1.append(c)\n",
    "print(tuple(t1))\n",
    "####################################################### vice – versa #######################################################\n",
    "t2 = []\n",
    "a = [1,2,3]\n",
    "b = [1,2,3]\n",
    "c = [1,2,3]\n",
    "t2.append(tuple(a))\n",
    "t2.append(tuple(b))\n",
    "t2.append(tuple(c))\n",
    "print(t2)"
   ]
  },
  {
   "cell_type": "markdown",
   "metadata": {},
   "source": [
    "### 07) WAP to remove tuples of length K."
   ]
  },
  {
   "cell_type": "code",
   "execution_count": 114,
   "metadata": {},
   "outputs": [
    {
     "name": "stdin",
     "output_type": "stream",
     "text": [
      "enter length k 3\n"
     ]
    },
    {
     "name": "stdout",
     "output_type": "stream",
     "text": [
      "[(2, 4, 6, 3), (23, 54, 3, 6, 9), (8, 12), (15,)]\n"
     ]
    }
   ],
   "source": [
    "l1=[(2,4,6,3),(23,54,3,6,9),(8,12),(15,),(6,12,3)]\n",
    "n=int(input(\"enter length k\"))\n",
    "count=0\n",
    "for i in l1:\n",
    "    if(len(i)==n):\n",
    "        l1.remove(i)\n",
    "    else:\n",
    "        continue\n",
    "print(l1)"
   ]
  },
  {
   "cell_type": "markdown",
   "metadata": {},
   "source": [
    "### 08) WAP to remove duplicates from tuple."
   ]
  },
  {
   "cell_type": "code",
   "execution_count": 116,
   "metadata": {},
   "outputs": [
    {
     "name": "stdout",
     "output_type": "stream",
     "text": [
      "(1, 3, 4, 5, 9, 12, 78)\n"
     ]
    }
   ],
   "source": [
    "l1=(1,3,5,78,4,3,12,1,1,3,4,9)\n",
    "l1=tuple(set(l1))\n",
    "print(l1)"
   ]
  },
  {
   "cell_type": "markdown",
   "metadata": {},
   "source": [
    "### 09) WAP to multiply adjacent elements of a tuple and print that resultant tuple."
   ]
  },
  {
   "cell_type": "code",
   "execution_count": 2,
   "metadata": {},
   "outputs": [
    {
     "data": {
      "text/plain": [
       "(2, 6, 12, 4)"
      ]
     },
     "execution_count": 2,
     "metadata": {},
     "output_type": "execute_result"
    }
   ],
   "source": [
    "t1 = (1,2,3,4)\n",
    "t1 = list(t1)\n",
    "for i in range(len(t1)-1):\n",
    "    t1[i] = t1[i] * t1[i+1]\n",
    "t1 = tuple(t1)\n",
    "t1"
   ]
  },
  {
   "cell_type": "markdown",
   "metadata": {},
   "source": [
    "### 10) WAP to test if the given tuple is distinct or not."
   ]
  },
  {
   "cell_type": "code",
   "execution_count": 3,
   "metadata": {},
   "outputs": [
    {
     "name": "stdout",
     "output_type": "stream",
     "text": [
      "distinct\n"
     ]
    }
   ],
   "source": [
    "\n",
    "t1 = (1,2,3,4,5)\n",
    "flag = True\n",
    "temp = t1[0]\n",
    "for i in range(i,len(t1)):\n",
    "    for j in range(i+1,len(t1)):\n",
    "        if t1[i] == t1[j]:\n",
    "            flag = False\n",
    "            break\n",
    "if flag:\n",
    "    print(\"distinct\")\n",
    "else:\n",
    "    print(\"not distinct\")"
   ]
  },
  {
   "cell_type": "code",
   "execution_count": null,
   "metadata": {},
   "outputs": [],
   "source": []
  }
 ],
 "metadata": {
  "kernelspec": {
   "display_name": "Python 3 (ipykernel)",
   "language": "python",
   "name": "python3"
  },
  "language_info": {
   "codemirror_mode": {
    "name": "ipython",
    "version": 3
   },
   "file_extension": ".py",
   "mimetype": "text/x-python",
   "name": "python",
   "nbconvert_exporter": "python",
   "pygments_lexer": "ipython3",
   "version": "3.12.7"
  }
 },
 "nbformat": 4,
 "nbformat_minor": 4
}
