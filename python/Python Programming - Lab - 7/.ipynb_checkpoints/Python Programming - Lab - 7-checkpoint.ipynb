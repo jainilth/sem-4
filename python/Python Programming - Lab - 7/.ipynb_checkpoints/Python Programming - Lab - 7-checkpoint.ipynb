{
 "cells": [
  {
   "cell_type": "markdown",
   "metadata": {},
   "source": [
    "<a href='https://www.darshan.ac.in/'> <img src='https://www.darshan.ac.in/Content/media/DU_Logo.svg' width=\"250\" height=\"300\"/></a>\n",
    "<pre>\n",
    "<center><b><h1>Python Programming - 2301CS404</b></center>\n",
    "<center><b><h1>Lab - 7</b></center>    \n",
    "<pre>"
   ]
  },
  {
   "cell_type": "markdown",
   "metadata": {},
   "source": [
    "<h1>name:thummar jainil</h1>\n",
    "<h1>enrollment number:23010101272</h1>"
   ]
  },
  {
   "cell_type": "markdown",
   "metadata": {},
   "source": [
    "# Set & Dictionary"
   ]
  },
  {
   "cell_type": "markdown",
   "metadata": {},
   "source": [
    "### 01) WAP to iterate over a set."
   ]
  },
  {
   "cell_type": "code",
   "execution_count": 2,
   "metadata": {},
   "outputs": [
    {
     "name": "stdout",
     "output_type": "stream",
     "text": [
      "1\n",
      "2\n",
      "3\n",
      "4\n",
      "5\n"
     ]
    }
   ],
   "source": [
    "s={1,2,3,4,5}\n",
    "for i in s:\n",
    "    print(i)"
   ]
  },
  {
   "cell_type": "markdown",
   "metadata": {},
   "source": [
    "### 02) WAP to convert set into list, string and tuple."
   ]
  },
  {
   "cell_type": "code",
   "execution_count": 50,
   "metadata": {},
   "outputs": [
    {
     "name": "stdout",
     "output_type": "stream",
     "text": [
      "<class 'list'>\n",
      "<class 'str'>\n",
      "<class 'tuple'>\n"
     ]
    }
   ],
   "source": [
    "s={246,3,2,76,9,64,5}\n",
    "l=list(s)\n",
    "print(type(l))\n",
    "string=str(s)\n",
    "print(type(string))\n",
    "t=tuple(s)\n",
    "print(type(t))"
   ]
  },
  {
   "cell_type": "markdown",
   "metadata": {},
   "source": [
    "### 03) WAP to find Maximum and Minimum from a set."
   ]
  },
  {
   "cell_type": "code",
   "execution_count": 10,
   "metadata": {},
   "outputs": [
    {
     "name": "stdout",
     "output_type": "stream",
     "text": [
      "246\n",
      "2\n"
     ]
    }
   ],
   "source": [
    "s={246,3,2,76,9,64,5}\n",
    "print(max(s))\n",
    "print(min(s))"
   ]
  },
  {
   "cell_type": "markdown",
   "metadata": {},
   "source": [
    "### 04) WAP to perform union of two sets."
   ]
  },
  {
   "cell_type": "code",
   "execution_count": 56,
   "metadata": {},
   "outputs": [
    {
     "name": "stdout",
     "output_type": "stream",
     "text": [
      "{64, 32, 2, 3, 34, 5, 9, 76, 246, 56}\n"
     ]
    }
   ],
   "source": [
    "s1={246,3,2,76,9,64,5}\n",
    "s2={3,2,34,56,64,32}\n",
    "m=s1|s2\n",
    "print(m)"
   ]
  },
  {
   "cell_type": "markdown",
   "metadata": {},
   "source": [
    "### 05) WAP to check if two lists have at-least one element common."
   ]
  },
  {
   "cell_type": "code",
   "execution_count": 58,
   "metadata": {},
   "outputs": [
    {
     "name": "stdout",
     "output_type": "stream",
     "text": [
      "available\n"
     ]
    }
   ],
   "source": [
    "list1 = [1, 2, 3, 4, 5]\n",
    "list2 = [5, 6, 7, 8, 9]\n",
    "\n",
    "if(set(list1) & set(list2)):\n",
    "    print('available')\n",
    "else:\n",
    "    print('not')"
   ]
  },
  {
   "cell_type": "markdown",
   "metadata": {},
   "source": [
    "### 06) WAP to remove duplicates from list."
   ]
  },
  {
   "cell_type": "code",
   "execution_count": 63,
   "metadata": {},
   "outputs": [
    {
     "name": "stdout",
     "output_type": "stream",
     "text": [
      "[1, 2, 3, 4, 5, 6]\n"
     ]
    }
   ],
   "source": [
    "list1 = [1, 2, 3, 4, 5, 6, 5, 3, 4]\n",
    "list1=list(set(list1))\n",
    "print(list1)"
   ]
  },
  {
   "cell_type": "markdown",
   "metadata": {},
   "source": [
    "### 07) WAP to find unique words in the given string."
   ]
  },
  {
   "cell_type": "code",
   "execution_count": 73,
   "metadata": {},
   "outputs": [
    {
     "name": "stdout",
     "output_type": "stream",
     "text": [
      "['self', 'your', 'what', 'my', 'nice', 'hello', 'name', 'is', 'jainil']\n"
     ]
    }
   ],
   "source": [
    "string='hello my name is jainil hello nice my self is jainil what is your name'\n",
    "l=string.split()\n",
    "l=list(set(l))\n",
    "print(l)"
   ]
  },
  {
   "cell_type": "markdown",
   "metadata": {},
   "source": [
    "### 08) WAP to remove common elements of set A & B from set A."
   ]
  },
  {
   "cell_type": "code",
   "execution_count": 75,
   "metadata": {},
   "outputs": [
    {
     "name": "stdout",
     "output_type": "stream",
     "text": [
      "{1, 2, 3}\n"
     ]
    }
   ],
   "source": [
    "set_a = {1, 2, 3, 4, 5}\n",
    "set_b = {4, 5, 6, 7, 8}\n",
    "set_a -= set_a & set_b\n",
    "print(set_a)"
   ]
  },
  {
   "cell_type": "markdown",
   "metadata": {},
   "source": [
    "### 09) WAP to check whether two given strings are anagram or not using set."
   ]
  },
  {
   "cell_type": "code",
   "execution_count": 93,
   "metadata": {},
   "outputs": [
    {
     "name": "stdout",
     "output_type": "stream",
     "text": [
      "{'i': 1, 'e': 1, 'm': 1, 'c': 1, 'l': 1, 'a': 1, 'd': 1}\n",
      "{'i': 1, 'e': 1, 'm': 1, 'c': 1, 'l': 1, 'a': 1, 'd': 1}\n",
      "anagram\n"
     ]
    }
   ],
   "source": [
    "s1='decimal'\n",
    "s2='medical'\n",
    "se1=set(s1)\n",
    "se2=set(s2)\n",
    "d1=dict()\n",
    "d2=dict()\n",
    "for i in se1:\n",
    "    d1[i] = s1.count(i)\n",
    "for i in se2:\n",
    "    d2[i]=s2.count(i)\n",
    "print(d1)\n",
    "print(d2)\n",
    "if(d1==d2):\n",
    "    print('anagram')\n",
    "else:\n",
    "    print('not')"
   ]
  },
  {
   "cell_type": "markdown",
   "metadata": {},
   "source": [
    "### 10) WAP to find common elements in three lists using set."
   ]
  },
  {
   "cell_type": "code",
   "execution_count": 119,
   "metadata": {},
   "outputs": [
    {
     "name": "stdout",
     "output_type": "stream",
     "text": [
      "available common element :  {24, 6, 7}\n"
     ]
    }
   ],
   "source": [
    "l1 = [1,24,45,6,7,68,9]\n",
    "l2 = [2,4,5,24,6,7,10]\n",
    "l3 = [5,7,8,24,6,7,45]\n",
    "\n",
    "l1 = set(l1)\n",
    "l2 = set(l2)\n",
    "l3 = set(l3)\n",
    "\n",
    "\n",
    "\n",
    "if(l1 & l2 & l3):\n",
    "    print(\"available common element : \",(l1 & l2 & l3))"
   ]
  },
  {
   "cell_type": "markdown",
   "metadata": {},
   "source": [
    "### 11) WAP to count number of vowels in given string using set."
   ]
  },
  {
   "cell_type": "code",
   "execution_count": 95,
   "metadata": {},
   "outputs": [
    {
     "name": "stdout",
     "output_type": "stream",
     "text": [
      "{' ', 'v', 's', 'u', 'y', 'o', 'h', 'a'}\n",
      "3\n"
     ]
    }
   ],
   "source": [
    "s = \"ayush vasoya\"\n",
    "s1 = set(s)\n",
    "print(s1)\n",
    "\n",
    "count = 0\n",
    "for i in s1:\n",
    "    if i=='a' or i=='e' or i=='i' or i=='u' or i=='o':\n",
    "        count+=1\n",
    "print(count)"
   ]
  },
  {
   "cell_type": "markdown",
   "metadata": {},
   "source": [
    "### 12) WAP to check if a given string is binary string or not."
   ]
  },
  {
   "cell_type": "code",
   "execution_count": 113,
   "metadata": {},
   "outputs": [
    {
     "name": "stdin",
     "output_type": "stream",
     "text": [
      "Enter a string:  10110\n"
     ]
    },
    {
     "name": "stdout",
     "output_type": "stream",
     "text": [
      "The string is a binary string.\n"
     ]
    }
   ],
   "source": [
    "s = input(\"Enter a string: \")\n",
    "for char in s:\n",
    "        if char not in '01':\n",
    "            ans = False\n",
    "        else:\n",
    "            ans = True\n",
    "if (ans):\n",
    "    print(\"The string is a binary string.\")\n",
    "else:\n",
    "    print(\"The string is not a binary string.\")"
   ]
  },
  {
   "cell_type": "markdown",
   "metadata": {},
   "source": [
    "### 13) WAP to sort dictionary by key or value."
   ]
  },
  {
   "cell_type": "code",
   "execution_count": 107,
   "metadata": {},
   "outputs": [
    {
     "name": "stdout",
     "output_type": "stream",
     "text": [
      "sorted by keys : {1: 'h', 2: 'e', 3: 'l', 4: 'l', 5: 'o'}\n",
      "sorted by values : {2: 'e', 1: 'h', 3: 'l', 4: 'l', 5: 'o'}\n"
     ]
    }
   ],
   "source": [
    "dict1 = { 5 : 'o' ,  3 : 'l' ,2 : 'e', 4 : 'l', 1 : 'h'  }\n",
    "\n",
    "s1 = dict(sorted(dict1.items()))\n",
    "print(f\"sorted by keys : {s1}\")\n",
    "\n",
    "s2 =  dict(sorted(dict1.items(),key = lambda item : item[1]))\n",
    "print(f\"sorted by values : {s2}\")"
   ]
  },
  {
   "cell_type": "markdown",
   "metadata": {},
   "source": [
    "### 14) WAP to find the sum of all items (values) in a dictionary given by user. (Assume: values are numeric)"
   ]
  },
  {
   "cell_type": "code",
   "execution_count": 111,
   "metadata": {},
   "outputs": [
    {
     "name": "stdout",
     "output_type": "stream",
     "text": [
      "6\n"
     ]
    }
   ],
   "source": [
    "d={'a':1,'b':2,'c':3}\n",
    "sum=0\n",
    "for i in d.values():\n",
    "    sum+=i\n",
    "print(sum)"
   ]
  },
  {
   "cell_type": "markdown",
   "metadata": {},
   "source": [
    "### 15) WAP to handle missing keys in dictionaries.\n",
    "#### Example : Given, dict1 = {'a': 5, 'c': 8, 'e': 2} \n",
    "#### if you look for key = 'd', the message given should be 'Key Not Found', otherwise print the value of 'd' in dict1."
   ]
  },
  {
   "cell_type": "code",
   "execution_count": 121,
   "metadata": {},
   "outputs": [
    {
     "name": "stdin",
     "output_type": "stream",
     "text": [
      "Enter Key :  a\n"
     ]
    },
    {
     "name": "stdout",
     "output_type": "stream",
     "text": [
      "5\n"
     ]
    }
   ],
   "source": [
    "dict1={'a':5,'c':8,'e':2}\n",
    "k=input(\"Enter Key : \")\n",
    "if(k not in dict1.keys()):\n",
    "    print(\"Key not found\")\n",
    "else:\n",
    "    print(dict1[k])"
   ]
  }
 ],
 "metadata": {
  "kernelspec": {
   "display_name": "Python 3 (ipykernel)",
   "language": "python",
   "name": "python3"
  },
  "language_info": {
   "codemirror_mode": {
    "name": "ipython",
    "version": 3
   },
   "file_extension": ".py",
   "mimetype": "text/x-python",
   "name": "python",
   "nbconvert_exporter": "python",
   "pygments_lexer": "ipython3",
   "version": "3.12.7"
  }
 },
 "nbformat": 4,
 "nbformat_minor": 4
}
