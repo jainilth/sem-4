{
 "cells": [
  {
   "cell_type": "markdown",
   "metadata": {},
   "source": [
    "<a href='https://www.darshan.ac.in/'> <img src='https://www.darshan.ac.in/Content/media/DU_Logo.svg' width=\"250\" height=\"300\"/></a>\n",
    "<pre>\n",
    "<center><b><h1>Python Programming - 2301CS404</b></center>\n",
    "<center><b><h1>Lab - 8</b></center>    \n",
    "<pre>"
   ]
  },
  {
   "cell_type": "markdown",
   "metadata": {},
   "source": [
    "<h1>name:thummar jainil</h1>\n",
    "<h1>enrollment number:23010101272 - 385</h1>"
   ]
  },
  {
   "cell_type": "markdown",
   "metadata": {},
   "source": [
    "# User Defined Function"
   ]
  },
  {
   "cell_type": "markdown",
   "metadata": {},
   "source": [
    "### 01) Write a function to calculate BMI given mass and height. (BMI = mass/h**2)"
   ]
  },
  {
   "cell_type": "code",
   "execution_count": 3,
   "metadata": {},
   "outputs": [
    {
     "name": "stdout",
     "output_type": "stream",
     "text": [
      "1.3888888888888888\n"
     ]
    }
   ],
   "source": [
    "def bgmi(m,h):\n",
    "    return (m/h**2)\n",
    "print(bgmi(50,6))"
   ]
  },
  {
   "cell_type": "markdown",
   "metadata": {},
   "source": [
    "### 02) Write a function that add first n numbers."
   ]
  },
  {
   "cell_type": "code",
   "execution_count": 4,
   "metadata": {},
   "outputs": [
    {
     "name": "stdout",
     "output_type": "stream",
     "text": [
      "6\n"
     ]
    }
   ],
   "source": [
    "def add(n):\n",
    "    sum=0\n",
    "    for i in range(n+1):\n",
    "        sum+=i\n",
    "    return sum\n",
    "print(add(3))"
   ]
  },
  {
   "cell_type": "markdown",
   "metadata": {},
   "source": [
    "### 03) Write a function that returns 1 if the given number is Prime or 0 otherwise."
   ]
  },
  {
   "cell_type": "code",
   "execution_count": 8,
   "metadata": {},
   "outputs": [
    {
     "name": "stdout",
     "output_type": "stream",
     "text": [
      "1\n"
     ]
    }
   ],
   "source": [
    "def prime(n):\n",
    "    count=0\n",
    "    for i in range(1,n):\n",
    "        if(n%i==0):\n",
    "            count+=1\n",
    "    if(count==1):return 1\n",
    "    else:return 0\n",
    "print(prime(5))"
   ]
  },
  {
   "cell_type": "markdown",
   "metadata": {},
   "source": [
    "### 04) Write a function that returns the list of Prime numbers between given two numbers."
   ]
  },
  {
   "cell_type": "code",
   "execution_count": 11,
   "metadata": {},
   "outputs": [
    {
     "name": "stdout",
     "output_type": "stream",
     "text": [
      "[2, 3, 5, 7, 11, 13, 17, 19, 23, 29, 31, 37, 41, 43, 47, 53, 59, 61, 67, 71, 73, 79, 83, 89, 97]\n"
     ]
    }
   ],
   "source": [
    "def listPrime(n1,n2):\n",
    "    l1=[]\n",
    "    for i in range(n1,n2+1):\n",
    "        count=0\n",
    "        for j in range(1,i):\n",
    "            if(i%j==0):\n",
    "                count+=1\n",
    "        if(count==1):\n",
    "            l1.append(i)\n",
    "    return l1\n",
    "print(listPrime(1,100))"
   ]
  },
  {
   "cell_type": "markdown",
   "metadata": {},
   "source": [
    "### 05) Write a function that returns True if the given string is Palindrome or False otherwise."
   ]
  },
  {
   "cell_type": "code",
   "execution_count": 15,
   "metadata": {},
   "outputs": [
    {
     "name": "stdout",
     "output_type": "stream",
     "text": [
      "True\n"
     ]
    }
   ],
   "source": [
    "def palindrome(s1):\n",
    "    i=0\n",
    "    j=len(s1)-1\n",
    "    for i in range(int(len(s1)/2)):\n",
    "        if(s1[i]==s1[j]):\n",
    "            i+=1\n",
    "            j-=1\n",
    "        else:\n",
    "            return False\n",
    "    return True\n",
    "print(palindrome('madam'))"
   ]
  },
  {
   "cell_type": "markdown",
   "metadata": {},
   "source": [
    "### 06) Write a function that returns the sum of all the elements of the list."
   ]
  },
  {
   "cell_type": "code",
   "execution_count": 18,
   "metadata": {},
   "outputs": [
    {
     "name": "stdout",
     "output_type": "stream",
     "text": [
      "15\n"
     ]
    },
    {
     "data": {
      "text/plain": [
       "15"
      ]
     },
     "execution_count": 18,
     "metadata": {},
     "output_type": "execute_result"
    }
   ],
   "source": [
    "def sumList(l1):\n",
    "    return sum(l1)\n",
    "print(sumList([1,2,3,4,5]))\n",
    "sumList([1,2,3,4,5])"
   ]
  },
  {
   "cell_type": "markdown",
   "metadata": {},
   "source": [
    "### 07) Write a function to calculate the sum of the first element of each tuples inside the list."
   ]
  },
  {
   "cell_type": "code",
   "execution_count": 26,
   "metadata": {},
   "outputs": [
    {
     "data": {
      "text/plain": [
       "15"
      ]
     },
     "execution_count": 26,
     "metadata": {},
     "output_type": "execute_result"
    }
   ],
   "source": [
    "l1 = [(6, 2, 3),(4, 7),(5,2 ,5 ,3)]\n",
    "def sum1(l):\n",
    "    ans  = 0\n",
    "    for i in l:\n",
    "        ans = ans + i[0]\n",
    "    return ans\n",
    "answer  =  sum1(l1)\n",
    "answer"
   ]
  },
  {
   "cell_type": "markdown",
   "metadata": {},
   "source": [
    "### 08) Write a recursive function to find nth term of Fibonacci Series."
   ]
  },
  {
   "cell_type": "code",
   "execution_count": 28,
   "metadata": {},
   "outputs": [
    {
     "data": {
      "text/plain": [
       "5"
      ]
     },
     "execution_count": 28,
     "metadata": {},
     "output_type": "execute_result"
    }
   ],
   "source": [
    "def fib(n):\n",
    "    if (n==0 or n==1): return n\n",
    "    else: return (fib(n-1)+fib(n-2))\n",
    "fib(5)"
   ]
  },
  {
   "cell_type": "markdown",
   "metadata": {},
   "source": [
    "### 09) Write a function to get the name of the student based on the given rollno.\n",
    "#### Example: Given dict1 = {101:'Ajay', 102:'Rahul', 103:'Jay', 104:'Pooja'} find name of student whose rollno = 103"
   ]
  },
  {
   "cell_type": "code",
   "execution_count": 30,
   "metadata": {},
   "outputs": [
    {
     "name": "stdin",
     "output_type": "stream",
     "text": [
      "Enter Roll No :  103\n"
     ]
    },
    {
     "data": {
      "text/plain": [
       "'Pooja'"
      ]
     },
     "execution_count": 30,
     "metadata": {},
     "output_type": "execute_result"
    }
   ],
   "source": [
    "dict1 = {101:'Ajay',102:'Rahul',103:'Pooja'}\n",
    "rollNo = int(input(\"Enter Roll No : \"))\n",
    "dict1.get(rollNo)"
   ]
  },
  {
   "cell_type": "markdown",
   "metadata": {},
   "source": [
    "### 10) Write a function to get the sum of the scores ending with zero.\n",
    "#### Example : scores = [200, 456, 300, 100, 234, 678] \n",
    "#### Ans = 200 + 300 + 100 = 600"
   ]
  },
  {
   "cell_type": "code",
   "execution_count": 31,
   "metadata": {},
   "outputs": [
    {
     "data": {
      "text/plain": [
       "600"
      ]
     },
     "execution_count": 31,
     "metadata": {},
     "output_type": "execute_result"
    }
   ],
   "source": [
    "scores = [200, 456, 300, 100, 234, 678]\n",
    "def sumofscore(scores):\n",
    "    ans = 0 \n",
    "    for i in scores:\n",
    "        if i % 10 == 0:\n",
    "            ans = ans +i\n",
    "    return ans\n",
    "answer = sumofscore(scores)\n",
    "answer"
   ]
  },
  {
   "cell_type": "markdown",
   "metadata": {},
   "source": [
    "### 11) Write a function to invert a given Dictionary.\n",
    "#### hint: keys to values & values to keys\n",
    "#### Before : {'a': 10, 'b':20, 'c':30, 'd':40}\n",
    "#### After : {10:'a', 20:'b', 30:'c', 40:'d'}"
   ]
  },
  {
   "cell_type": "code",
   "execution_count": 35,
   "metadata": {},
   "outputs": [
    {
     "data": {
      "text/plain": [
       "{10: 'a', 20: 'b', 30: 'c', 40: 'd'}"
      ]
     },
     "execution_count": 35,
     "metadata": {},
     "output_type": "execute_result"
    }
   ],
   "source": [
    "dic = {'a': 10, 'b':20, 'c':30, 'd':40}\n",
    "def swap(d):\n",
    "    return {v : k for k ,v in d.items()}\n",
    "ans = swap(dic)\n",
    "ans"
   ]
  },
  {
   "cell_type": "markdown",
   "metadata": {},
   "source": [
    "### 12) Write a function to check whether the given string is Pangram or not.\n",
    "#### hint: Pangram is a string containing all the characters a-z atlest once.\n",
    "#### \"the quick brown fox jumps over the lazy dog\" is a Pangram string."
   ]
  },
  {
   "cell_type": "code",
   "execution_count": 34,
   "metadata": {},
   "outputs": [
    {
     "name": "stdout",
     "output_type": "stream",
     "text": [
      "Pangram string\n"
     ]
    }
   ],
   "source": [
    "string =\"the quick brown fox jumps over the lazy dog\"\n",
    "set1 = set(string.lower())\n",
    "set1.remove(' ')\n",
    "def panagram(set1):\n",
    "    if(len(set1)==26):\n",
    "        print(\"Pangram string\")\n",
    "    else:\n",
    "        print(\"not Pangram string\")\n",
    "panagram(set1)"
   ]
  },
  {
   "cell_type": "markdown",
   "metadata": {},
   "source": [
    "### 13) Write a function that returns the number of uppercase and lowercase letters in the given string. \n",
    "#### example : Input : s1 = AbcDEfgh ,Ouptput : no_upper = 3, no_lower = 5"
   ]
  },
  {
   "cell_type": "code",
   "execution_count": 39,
   "metadata": {},
   "outputs": [
    {
     "data": {
      "text/plain": [
       "[3, 5]"
      ]
     },
     "execution_count": 39,
     "metadata": {},
     "output_type": "execute_result"
    }
   ],
   "source": [
    "def upperlower(s1): \n",
    "    no_upper =0\n",
    "    no_lower =0\n",
    "    for i in s1:\n",
    "        if i.isupper():\n",
    "            no_upper = no_upper+1\n",
    "            \n",
    "        elif i.islower():\n",
    "            no_lower = no_lower +1\n",
    "    return list([no_upper,no_lower])\n",
    "upperlower(\"AbcDEfgh\")"
   ]
  },
  {
   "cell_type": "markdown",
   "metadata": {},
   "source": [
    "### 14) Write a lambda function to get smallest number from the given two numbers."
   ]
  },
  {
   "cell_type": "code",
   "execution_count": 40,
   "metadata": {},
   "outputs": [
    {
     "name": "stdout",
     "output_type": "stream",
     "text": [
      "5\n"
     ]
    }
   ],
   "source": [
    "get_min = lambda a, b : min(a,b) \n",
    "  \n",
    "print(get_min(5, 8))"
   ]
  },
  {
   "cell_type": "markdown",
   "metadata": {},
   "source": [
    "### 15) For the given list of names of students, extract the names having more that 7 characters. Use filter()."
   ]
  },
  {
   "cell_type": "code",
   "execution_count": 2,
   "metadata": {},
   "outputs": [
    {
     "name": "stdout",
     "output_type": "stream",
     "text": [
      "Names with more than 7 characters: ['Alexander', 'Catherine', 'Elizabeth']\n"
     ]
    }
   ],
   "source": [
    "students = [\"Alice\", \"Bob\", \"Alexander\", \"Catherine\", \"David\", \"Elizabeth\"]\n",
    "def has_more_than_7_chars(name):\n",
    "    return len(name) > 7\n",
    "filtered_names = list(filter(has_more_than_7_chars, students))\n",
    "print(\"Names with more than 7 characters:\", filtered_names)"
   ]
  },
  {
   "cell_type": "markdown",
   "metadata": {},
   "source": [
    "### 16) For the given list of names of students, convert the first letter of all the names into uppercase. use map()."
   ]
  },
  {
   "cell_type": "code",
   "execution_count": 3,
   "metadata": {},
   "outputs": [
    {
     "name": "stdout",
     "output_type": "stream",
     "text": [
      "Names with first letter capitalized: ['Alice', 'Bob', 'Alexander', 'Catherine', 'David', 'Elizabeth']\n"
     ]
    }
   ],
   "source": [
    "students = [\"alice\", \"bob\", \"alexander\", \"catherine\", \"david\", \"elizabeth\"]\n",
    "def capitalize_first_letter(name):\n",
    "    return name.capitalize()\n",
    "capitalized_names = list(map(capitalize_first_letter, students))\n",
    "print(\"Names with first letter capitalized:\", capitalized_names)"
   ]
  },
  {
   "cell_type": "markdown",
   "metadata": {},
   "source": [
    "### 17) Write udfs to call the functions with following types of arguments:\n",
    "1. Positional Arguments\n",
    "2. Keyword Arguments\n",
    "3. Default Arguments\n",
    "4. Variable Legngth Positional(*args) & variable length Keyword Arguments (**kwargs)\n",
    "5. Keyword-Only & Positional Only Arguments"
   ]
  },
  {
   "cell_type": "code",
   "execution_count": 4,
   "metadata": {},
   "outputs": [
    {
     "name": "stdout",
     "output_type": "stream",
     "text": [
      "Positional Arguments Result: 30\n",
      "Keyword Arguments Result: -10\n",
      "Default Arguments Result: 50\n",
      "Variable-Length Positional Arguments Result: 15\n",
      "Variable-Length Keyword Arguments Result: {'name': 'Alice', 'age': 25, 'city': 'New York'}\n",
      "Keyword-Only Arguments Result: 30\n",
      "Positional-Only Arguments Result: 200\n"
     ]
    }
   ],
   "source": [
    "\n",
    "def positional_args(a, b):\n",
    "    return a + b\n",
    "\n",
    "def keyword_args(a, b):\n",
    "    return a - b\n",
    "\n",
    "def default_args(a, b=5):\n",
    "    return a * b\n",
    "\n",
    "def variable_length_positional(*args):\n",
    "    return sum(args)\n",
    "\n",
    "def variable_length_keyword(**kwargs):\n",
    "    return kwargs\n",
    "\n",
    "def keyword_only_args(*, a, b):\n",
    "    return a + b\n",
    "\n",
    "def positional_only_args(a, b, /):\n",
    "    return a * b\n",
    "\n",
    "print(\"Positional Arguments Result:\", positional_args(10, 20))\n",
    "print(\"Keyword Arguments Result:\", keyword_args(b=20, a=10))\n",
    "print(\"Default Arguments Result:\", default_args(10))\n",
    "print(\"Variable-Length Positional Arguments Result:\", variable_length_positional(1, 2, 3, 4, 5))\n",
    "print(\"Variable-Length Keyword Arguments Result:\", variable_length_keyword(name=\"Alice\", age=25, city=\"New York\"))\n",
    "print(\"Keyword-Only Arguments Result:\", keyword_only_args(a=10, b=20))\n",
    "print(\"Positional-Only Arguments Result:\", positional_only_args(10, 20))"
   ]
  },
  {
   "cell_type": "code",
   "execution_count": null,
   "metadata": {},
   "outputs": [],
   "source": []
  }
 ],
 "metadata": {
  "kernelspec": {
   "display_name": "Python 3 (ipykernel)",
   "language": "python",
   "name": "python3"
  },
  "language_info": {
   "codemirror_mode": {
    "name": "ipython",
    "version": 3
   },
   "file_extension": ".py",
   "mimetype": "text/x-python",
   "name": "python",
   "nbconvert_exporter": "python",
   "pygments_lexer": "ipython3",
   "version": "3.12.7"
  }
 },
 "nbformat": 4,
 "nbformat_minor": 4
}
